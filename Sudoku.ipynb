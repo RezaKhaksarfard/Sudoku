{
 "cells": [
  {
   "cell_type": "markdown",
   "metadata": {},
   "source": [
    "# Function for getting input data"
   ]
  },
  {
   "cell_type": "code",
   "execution_count": 1,
   "metadata": {
    "collapsed": true
   },
   "outputs": [],
   "source": [
    "import csv\n",
    "\n",
    "#Gets 9 * 9 data from input.csv and saves to a list (size of 81) \n",
    "def GetData():\n",
    "    dataList = []\n",
    "    with open(\"input.csv\", \"r\") as f:\n",
    "        reader = csv.reader(f, delimiter=\",\")\n",
    "        for line in reader:\n",
    "            for cell in line:\n",
    "                if cell != '':\n",
    "                    dataList.append(int(cell))\n",
    "                else:\n",
    "                    dataList.append(0)\n",
    "\n",
    "    return dataList"
   ]
  },
  {
   "cell_type": "markdown",
   "metadata": {},
   "source": [
    "# Sudoku Solver Class"
   ]
  },
  {
   "cell_type": "code",
   "execution_count": 2,
   "metadata": {
    "collapsed": true
   },
   "outputs": [],
   "source": [
    "#Sudoku solver class\n",
    "#Gets input data and saves solution to a list\n",
    "\n",
    "class Sudoku:\n",
    "    def __init__( self, inputData ):\n",
    "\n",
    "        #List of indices of fixed numbers\n",
    "        self.m_fixedList = [ i for i, val in enumerate( inputData ) if val != 0 ]\n",
    "        \n",
    "        #List of relatives for each cell (Same row, column and 3 * 3 square)\n",
    "        self.m_indexRel = [ [] for i in range( 81 ) ]\n",
    "        \n",
    "        self.m_sol = inputData.copy() #Solution list\n",
    "\n",
    "    def GetSolution( self ):\n",
    "        return self.m_sol\n",
    "    \n",
    "    #Set relatives for each cell (Same row, column and 3 * 3 square)\n",
    "    def SetIndexRelation( self ):\n",
    "        for i in range( 81 ):\n",
    "            \n",
    "            #Same Column\n",
    "            for ii in range( i % 9, 81, 9 ):\n",
    "                if ii != i:\n",
    "                    self.m_indexRel[ i ].append( ii )\n",
    "                    \n",
    "            #Same Row\n",
    "            for ii in range( int( i / 9 ) * 9, ( int( i / 9 ) + 1 ) * 9 ):\n",
    "                if ii != i:\n",
    "                    self.m_indexRel[ i ].append( ii )\n",
    "                    \n",
    "            #Same 3 * 3 Square\n",
    "            for k in range( 3 ):\n",
    "                for ii in range( int( i / 27 ) * 27 + 9 * k + int( ( i % 9 ) / 3 ) * 3, \n",
    "                                 int( i / 27 ) * 27 + 9 * k + int( ( i % 9 ) / 3 ) * 3 + 3 ):\n",
    "                    if ii != i and ii not in self.m_indexRel[ i ]:\n",
    "                        self.m_indexRel[ i ].append( ii )\n",
    "\n",
    "    #Checks if the current value for cell i is good \n",
    "    def IsGood( self, i ):\n",
    "        for ii in self.m_indexRel[ i ]:\n",
    "            if self.m_sol[ii] == self.m_sol[i]:\n",
    "                return False\n",
    "        return True\n",
    "\n",
    "    #Recursive function to find solution\n",
    "    def Solve( self, i ):\n",
    "        if i == 81:\n",
    "            return True\n",
    "        elif i in self.m_fixedList:\n",
    "            if self.Solve( i + 1 ):\n",
    "                return True\n",
    "        else:\n",
    "            for val in range( 1, 10 ):\n",
    "                self.m_sol[ i ] = val\n",
    "                if self.IsGood( i ):\n",
    "                    if self.Solve( i + 1 ):\n",
    "                        return True\n",
    "            self.m_sol[ i ] = 0\n",
    "        return False"
   ]
  },
  {
   "cell_type": "markdown",
   "metadata": {},
   "source": [
    "# Function for writing solution"
   ]
  },
  {
   "cell_type": "code",
   "execution_count": 3,
   "metadata": {
    "collapsed": true
   },
   "outputs": [],
   "source": [
    "import csv\n",
    "\n",
    "#Outputs solution to output.csv\n",
    "def OutputSolution( sudoku ):\n",
    "    sol = sudoku.GetSolution()\n",
    "    with open(\"output.csv\", \"w\") as f:\n",
    "        writer = csv.writer(f)\n",
    "        writer.writerows( [ sol[ i * 9: ( i + 1 ) * 9 ] for i in range( 9 ) ] )"
   ]
  },
  {
   "cell_type": "markdown",
   "metadata": {},
   "source": [
    "\n",
    "\n",
    "\n",
    "\n",
    "\n",
    "\n",
    "# Get Data from input file"
   ]
  },
  {
   "cell_type": "code",
   "execution_count": 4,
   "metadata": {
    "collapsed": true
   },
   "outputs": [],
   "source": [
    "inputData = GetData()"
   ]
  },
  {
   "cell_type": "markdown",
   "metadata": {},
   "source": [
    "# Solve"
   ]
  },
  {
   "cell_type": "code",
   "execution_count": 5,
   "metadata": {
    "collapsed": false
   },
   "outputs": [],
   "source": [
    "sudoku = Sudoku( inputData )\n",
    "sudoku.SetIndexRelation()\n",
    "sudoku.Solve(0);"
   ]
  },
  {
   "cell_type": "markdown",
   "metadata": {},
   "source": [
    "# Output Solution"
   ]
  },
  {
   "cell_type": "code",
   "execution_count": 6,
   "metadata": {
    "collapsed": true
   },
   "outputs": [],
   "source": [
    "OutputSolution( sudoku )"
   ]
  }
 ],
 "metadata": {
  "celltoolbar": "Raw Cell Format",
  "kernelspec": {
   "display_name": "Python 3",
   "language": "python",
   "name": "python3"
  },
  "language_info": {
   "codemirror_mode": {
    "name": "ipython",
    "version": 3
   },
   "file_extension": ".py",
   "mimetype": "text/x-python",
   "name": "python",
   "nbconvert_exporter": "python",
   "pygments_lexer": "ipython3",
   "version": "3.5.3"
  }
 },
 "nbformat": 4,
 "nbformat_minor": 2
}
